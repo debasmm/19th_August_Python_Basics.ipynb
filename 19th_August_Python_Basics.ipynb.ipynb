{
 "cells": [
  {
   "cell_type": "code",
   "execution_count": null,
   "id": "97571d3c-4693-48f1-9c96-120a5af0ace7",
   "metadata": {},
   "outputs": [],
   "source": [
    "'''1.Declare two variables, `x` and `y`, and assign them integer values. Swap the\n",
    "values of these variables without using any temporary variable.'''\n",
    "\n",
    "x=int(input(\"Enter x value : \"))\n",
    "y=int(input(\"Enter y value: \"))\n",
    "x=x+y\n",
    "y=x-y\n",
    "x=x-y\n",
    "print(f'The value of x is :{x} and the value of y is :{y}')\n"
   ]
  },
  {
   "cell_type": "code",
   "execution_count": null,
   "id": "9060f29e-d843-4751-b3c3-fc7625a70bc1",
   "metadata": {},
   "outputs": [],
   "source": [
    "'''2. Create a program that calculates the area of a rectangle. Take the length and\n",
    "width as inputs from the user and store them in variables. Calculate and\n",
    "display the area.'''\n",
    "\n",
    "l=float(input(\"Enter the length : \"))\n",
    "w= float(input(\"Enter the Width :\"))\n",
    "a=l*w\n",
    "print(f'Area of the rectangle is {a}')"
   ]
  },
  {
   "cell_type": "code",
   "execution_count": null,
   "id": "26a13eaa-f63f-4e66-9a7c-53ff2ae08eba",
   "metadata": {},
   "outputs": [],
   "source": [
    "'''3. Write a Python program that converts temperatures from Celsius to\n",
    "Fahrenheit. Take the temperature in Celsius as input, store it in a variable,\n",
    "convert it to Fahrenheit, and display the result.'''\n",
    "\n",
    "c=float(input('Enter temprature in Celsius : '))\n",
    "F=c*9/5+32\n",
    "print(f'{c} Celsius is {F} Fahreenheit')"
   ]
  },
  {
   "cell_type": "markdown",
   "id": "c209522c-5269-4abd-8b91-7f741e792faf",
   "metadata": {},
   "source": [
    "TOPIC: String Based Questions"
   ]
  },
  {
   "cell_type": "code",
   "execution_count": null,
   "id": "06e33a3c-dce2-4597-a095-50d3145c4b32",
   "metadata": {},
   "outputs": [],
   "source": [
    "'''1. Write a Python program that takes a string as input and prints the length of\n",
    "the string.'''\n",
    "\n",
    "x=input('Enter anything')\n",
    "print(f'length of {x} is {len(x)}')"
   ]
  },
  {
   "cell_type": "code",
   "execution_count": null,
   "id": "899d6adc-dec0-4a44-93bc-e007750ac753",
   "metadata": {},
   "outputs": [],
   "source": [
    "'''2. Create a program that takes a sentence from the user and counts the number\n",
    "of vowels (a, e, i, o, u) in the string.'''\n",
    "\n",
    "x=input(\"Enter a sentence\")\n",
    "x=x.lower()\n",
    "a=x.count('a')\n",
    "e=x.count('e')\n",
    "i=x.count('i')\n",
    "o=x.count('o')\n",
    "u=x.count('u')\n",
    "vowel=a+e+i+o+u\n",
    "print(f'The sentance contain {vowel} vowels')"
   ]
  },
  {
   "cell_type": "code",
   "execution_count": null,
   "id": "737dbb8e-81c5-44dd-8447-0855868f7f34",
   "metadata": {},
   "outputs": [],
   "source": [
    "'''3. Given a string, reverse the order of characters using string slicing and print\n",
    "the reversed string.'''\n",
    "\n",
    "x=input('Enter a word: ')\n",
    "r=x[ : :-1]\n",
    "print(f'Reverse string is {r}')"
   ]
  },
  {
   "cell_type": "code",
   "execution_count": null,
   "id": "d201c16a-d0fe-40cb-9887-cebba6c993ae",
   "metadata": {},
   "outputs": [],
   "source": [
    "'''4. Write a program that takes a string as input and checks if it is a palindrome\n",
    "(reads the same forwards and backwards).'''\n",
    "\n",
    "x=input('Enter a sentence: ')\n",
    "r=x[::-1]\n",
    "a=x==r\n",
    "print(a)"
   ]
  },
  {
   "cell_type": "code",
   "execution_count": null,
   "id": "f83051ed-8226-4a08-9ed8-c50ab3ff71a3",
   "metadata": {},
   "outputs": [],
   "source": [
    "'''5. Create a program that takes a string as input and removes all the spaces from\n",
    "it. Print the modified string without spaces.'''\n",
    "\n",
    "x=input('Enter a sentence: ')\n",
    "x=x.replace(\" \",\"\")\n",
    "print(f'The modified string without spaces is {x}')"
   ]
  },
  {
   "cell_type": "code",
   "execution_count": null,
   "id": "b01cd3f7-dac8-4c4d-9509-c02e79b6f076",
   "metadata": {},
   "outputs": [],
   "source": []
  }
 ],
 "metadata": {
  "kernelspec": {
   "display_name": "Python 3 (ipykernel)",
   "language": "python",
   "name": "python3"
  },
  "language_info": {
   "codemirror_mode": {
    "name": "ipython",
    "version": 3
   },
   "file_extension": ".py",
   "mimetype": "text/x-python",
   "name": "python",
   "nbconvert_exporter": "python",
   "pygments_lexer": "ipython3",
   "version": "3.11.7"
  }
 },
 "nbformat": 4,
 "nbformat_minor": 5
}
